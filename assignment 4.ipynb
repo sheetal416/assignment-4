{
 "cells": [
  {
   "cell_type": "code",
   "execution_count": 61,
   "metadata": {},
   "outputs": [
    {
     "name": "stdout",
     "output_type": "stream",
     "text": [
      "a=3\n",
      "b=5\n",
      "c=7\n",
      "area :  6.49519052838329\n"
     ]
    }
   ],
   "source": [
    "#1.1\n",
    "class sides_of_triangle:\n",
    "    def __init__(self, a,b,c):\n",
    "        self.a =float(a)\n",
    "        self.b = float(b)\n",
    "        self.c = float(c)\n",
    "a = int(input(\"a=\"))    \n",
    "b = int(input(\"b=\"))       \n",
    "c = int(input(\"c=\"))   \n",
    "\n",
    "class base_triangle(sides_of_triangle):\n",
    "    def get_area(self):\n",
    "        s = (a+b+c) / 2\n",
    "        return (s*(s-a)*(s-b)*(s-c))** 0.5\n",
    "t = triangle(a,b,c)\n",
    "print(\"area :  {}\".format(t.get_area()))"
   ]
  },
  {
   "cell_type": "code",
   "execution_count": 14,
   "metadata": {},
   "outputs": [
    {
     "name": "stdout",
     "output_type": "stream",
     "text": [
      "['enthusiasm']\n"
     ]
    }
   ],
   "source": [
    "#1.2\n",
    "def filter_long_words(intake_words,intake_number):\n",
    "    list_of_words = []\n",
    "    for i in range(len(intake_words)):\n",
    "        if len(intake_words[i]) > intake_number:\n",
    "            list_of_words.append(intake_words[i])\n",
    "            return list_of_words\n",
    "input_enter_words = ['sheetal', 'enthusiasm', 'rolemodel','lathargic']\n",
    "input_enter_number = 7\n",
    "print(str(filter_long_words(input_enter_words,input_enter_number)))\n",
    "\n",
    "    \n",
    "   "
   ]
  },
  {
   "cell_type": "code",
   "execution_count": 52,
   "metadata": {},
   "outputs": [
    {
     "name": "stdout",
     "output_type": "stream",
     "text": [
      "list of words: ['ab', 'cde', 'erty']\n",
      "length of words: [2, 3, 4]\n"
     ]
    }
   ],
   "source": [
    "#2.1\n",
    "list_of_words = ['ab','cde','erty']\n",
    "list_of_integars = []\n",
    "for i in range(len(list_of_words)):\n",
    "    list_of_integars.append(len(list_of_words[i]))\n",
    "print(\"list of words: \" +str(list_of_words))\n",
    "print(\"length of words: \"+str(list_of_integars))\n",
    "    "
   ]
  },
  {
   "cell_type": "code",
   "execution_count": 15,
   "metadata": {},
   "outputs": [
    {
     "name": "stdout",
     "output_type": "stream",
     "text": [
      "enter the character: e\n",
      "output value:  True\n"
     ]
    }
   ],
   "source": [
    "#2.2\n",
    "def vowel(n):\n",
    "    if(len(n)==1):\n",
    "        vowel_list = ['a','e','i','o','u']\n",
    "        if (n.lower()in vowel_list):\n",
    "            return True\n",
    "        else:\n",
    "            return False\n",
    "n = input(\"enter the character: \")\n",
    "output = vowel(n)\n",
    "print(\"output value: \",output)"
   ]
  },
  {
   "cell_type": "code",
   "execution_count": 16,
   "metadata": {},
   "outputs": [
    {
     "name": "stdout",
     "output_type": "stream",
     "text": [
      "enter the character: t\n",
      "output value:  False\n"
     ]
    }
   ],
   "source": [
    "#2.2\n",
    "def vowel(n):\n",
    "    if(len(n)==1):\n",
    "        vowel_list = ['a','e','i','o','u']\n",
    "        if (n.lower()in vowel_list):\n",
    "            return True\n",
    "        else:\n",
    "            return False\n",
    "n = input(\"enter the character: \")\n",
    "output = vowel(n)\n",
    "print(\"output value: \",output)"
   ]
  },
  {
   "cell_type": "code",
   "execution_count": 62,
   "metadata": {},
   "outputs": [
    {
     "name": "stdout",
     "output_type": "stream",
     "text": [
      "enter the character: e\n",
      "output value:  True\n"
     ]
    }
   ],
   "source": [
    "#2.2\n",
    "def vowel(n):\n",
    "    if(len(n)==1):\n",
    "        vowel_list = ['a','e','i','o','u']\n",
    "        if (n.lower()in vowel_list):\n",
    "            return True\n",
    "        else:\n",
    "            return False\n",
    "n = input(\"enter the character: \")\n",
    "output = vowel(n)\n",
    "print(\"output value: \",output)"
   ]
  }
 ],
 "metadata": {
  "kernelspec": {
   "display_name": "Python 3",
   "language": "python",
   "name": "python3"
  },
  "language_info": {
   "codemirror_mode": {
    "name": "ipython",
    "version": 3
   },
   "file_extension": ".py",
   "mimetype": "text/x-python",
   "name": "python",
   "nbconvert_exporter": "python",
   "pygments_lexer": "ipython3",
   "version": "3.7.3"
  }
 },
 "nbformat": 4,
 "nbformat_minor": 2
}
